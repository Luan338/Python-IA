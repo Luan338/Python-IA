{
 "cells": [
  {
   "cell_type": "markdown",
   "metadata": {},
   "source": [
    "Pandas"
   ]
  },
  {
   "cell_type": "markdown",
   "metadata": {},
   "source": [
    "**Pandas é uma **poderosa biblioteca Python** que fornece estruturas de dados e **ferramentas de análise de dados robustas**. É amplamente usada para **manipulação de dados e preparação**. Pandas oferece operações de manipulação de dados como **filtragem, agrupamento, fusão e remodelação de dados** e é especialmente eficiente para **manipulação de grandes conjuntos de dados**. Além disso, Pandas é **compatível com muitos outros pacotes de análise de dados e bibliotecas de visualização**.\n",
    "\n",
    "Pandas também fornece funções para **ler e escrever dados em vários formatos**: CSV, Excel, SQL databases, entre outros. As **estruturas de dados fundamentais** no Pandas são a Series (uma série unidimensional) e o DataFrame (uma matriz bidimensional), que são construídas sobre o pacote **NumPy**, permitindo **fácil integração com uma ampla gama de bibliotecas em todo o ecossistema de ciência de dados Python**.\n",
    "\n",
    "Além disso, o Pandas é capaz de **lidar com dados de séries temporais**. Ele tem funções embutidas para **resampling de dados de séries temporais, cálculo de janelas móveis**, entre outras utilidades. Isso torna o Pandas uma **ferramenta indispensável para as análises de dados do mundo real**.**"
   ]
  },
  {
   "cell_type": "code",
   "execution_count": 2,
   "metadata": {},
   "outputs": [],
   "source": [
    "import pandas as pd"
   ]
  },
  {
   "cell_type": "code",
   "execution_count": 6,
   "metadata": {},
   "outputs": [],
   "source": [
    "dic_medidas = {'idade': [22,10,33,14], 'altura': [1.6,1.84,1.6,2]}"
   ]
  },
  {
   "cell_type": "code",
   "execution_count": 7,
   "metadata": {},
   "outputs": [],
   "source": [
    "df_medidas = pd.DataFrame.from_dict(dic_medidas)"
   ]
  },
  {
   "cell_type": "code",
   "execution_count": 8,
   "metadata": {},
   "outputs": [
    {
     "data": {
      "text/html": [
       "<div>\n",
       "<style scoped>\n",
       "    .dataframe tbody tr th:only-of-type {\n",
       "        vertical-align: middle;\n",
       "    }\n",
       "\n",
       "    .dataframe tbody tr th {\n",
       "        vertical-align: top;\n",
       "    }\n",
       "\n",
       "    .dataframe thead th {\n",
       "        text-align: right;\n",
       "    }\n",
       "</style>\n",
       "<table border=\"1\" class=\"dataframe\">\n",
       "  <thead>\n",
       "    <tr style=\"text-align: right;\">\n",
       "      <th></th>\n",
       "      <th>idade</th>\n",
       "      <th>altura</th>\n",
       "    </tr>\n",
       "  </thead>\n",
       "  <tbody>\n",
       "    <tr>\n",
       "      <th>0</th>\n",
       "      <td>22</td>\n",
       "      <td>1.60</td>\n",
       "    </tr>\n",
       "    <tr>\n",
       "      <th>1</th>\n",
       "      <td>10</td>\n",
       "      <td>1.84</td>\n",
       "    </tr>\n",
       "    <tr>\n",
       "      <th>2</th>\n",
       "      <td>33</td>\n",
       "      <td>1.60</td>\n",
       "    </tr>\n",
       "    <tr>\n",
       "      <th>3</th>\n",
       "      <td>14</td>\n",
       "      <td>2.00</td>\n",
       "    </tr>\n",
       "  </tbody>\n",
       "</table>\n",
       "</div>"
      ],
      "text/plain": [
       "   idade  altura\n",
       "0     22    1.60\n",
       "1     10    1.84\n",
       "2     33    1.60\n",
       "3     14    2.00"
      ]
     },
     "execution_count": 8,
     "metadata": {},
     "output_type": "execute_result"
    }
   ],
   "source": [
    "df_medidas"
   ]
  }
 ],
 "metadata": {
  "kernelspec": {
   "display_name": "Python 3",
   "language": "python",
   "name": "python3"
  },
  "language_info": {
   "codemirror_mode": {
    "name": "ipython",
    "version": 3
   },
   "file_extension": ".py",
   "mimetype": "text/x-python",
   "name": "python",
   "nbconvert_exporter": "python",
   "pygments_lexer": "ipython3",
   "version": "3.12.2"
  }
 },
 "nbformat": 4,
 "nbformat_minor": 2
}
