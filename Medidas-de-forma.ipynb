{
 "cells": [
  {
   "cell_type": "markdown",
   "metadata": {},
   "source": [
    "Medidas de Forma"
   ]
  },
  {
   "cell_type": "markdown",
   "metadata": {},
   "source": [
    "**Medidas de forma** são estatísticas que descrevem a distribuição dos dados. As principais medidas de forma são a **assimetria** e a **curtose**.\n",
    "\n",
    "A **assimetria** mede a distribuição dos dados em relação à média. Um conjunto de dados é simétrico se, quando você traça um histograma dos dados, ele parece o mesmo à esquerda e à direita do pico. Se o conjunto de dados não é simétrico, então ele é assimétrico. Se a cauda do histograma se estende mais para a direita, é positivamente assimétrico. Se se estende mais para a esquerda, é negativamente assimétrico.\n",
    "\n",
    "A **curtose** mede o \"achatamento\" ou \"pontuação\" de uma distribuição. Uma distribuição com curtose positiva é chamada de leptocúrtica, que tem um pico mais alto e caudas mais pesadas. Uma distribuição com curtose negativa é chamada de platicúrtica, que tem um pico mais baixo e caudas mais leves.\n",
    "\n",
    "### Exemplo prático das medidas de forma\n",
    "\n",
    "**Assimetria:** Se temos as notas de um aluno em cinco provas: 8, 9, 7, 10, e 8. Ao traçar um histograma das notas, podemos ver que a distribuição é simétrica, pois as notas estão igualmente distribuídas em torno da média.\n",
    "\n",
    "**Curtose:** Se temos uma lista de idades de cinco pessoas: 23, 25, 30, 35, e 40 anos. Ao traçar um histograma das idades, podemos ver que a distribuição é lepto urtica, pois a maioria das idades está próxima da média, resultando em um pico mais alto."
   ]
  },
  {
   "cell_type": "code",
   "execution_count": 16,
   "metadata": {},
   "outputs": [
    {
     "data": {
      "text/html": [
       "<div>\n",
       "<style scoped>\n",
       "    .dataframe tbody tr th:only-of-type {\n",
       "        vertical-align: middle;\n",
       "    }\n",
       "\n",
       "    .dataframe tbody tr th {\n",
       "        vertical-align: top;\n",
       "    }\n",
       "\n",
       "    .dataframe thead th {\n",
       "        text-align: right;\n",
       "    }\n",
       "</style>\n",
       "<table border=\"1\" class=\"dataframe\">\n",
       "  <thead>\n",
       "    <tr style=\"text-align: right;\">\n",
       "      <th></th>\n",
       "      <th>idade</th>\n",
       "      <th>altura</th>\n",
       "    </tr>\n",
       "  </thead>\n",
       "  <tbody>\n",
       "    <tr>\n",
       "      <th>0</th>\n",
       "      <td>22</td>\n",
       "      <td>2.20</td>\n",
       "    </tr>\n",
       "    <tr>\n",
       "      <th>1</th>\n",
       "      <td>10</td>\n",
       "      <td>2.34</td>\n",
       "    </tr>\n",
       "    <tr>\n",
       "      <th>2</th>\n",
       "      <td>33</td>\n",
       "      <td>0.50</td>\n",
       "    </tr>\n",
       "    <tr>\n",
       "      <th>3</th>\n",
       "      <td>14</td>\n",
       "      <td>0.70</td>\n",
       "    </tr>\n",
       "  </tbody>\n",
       "</table>\n",
       "</div>"
      ],
      "text/plain": [
       "   idade  altura\n",
       "0     22    2.20\n",
       "1     10    2.34\n",
       "2     33    0.50\n",
       "3     14    0.70"
      ]
     },
     "execution_count": 16,
     "metadata": {},
     "output_type": "execute_result"
    }
   ],
   "source": [
    "import pandas as pd\n",
    "\n",
    "dic_medidas = {'idade': [22,10,33,14], 'altura': [2.2,2.34,0.5,0.7]}\n",
    "df_medidas = pd.DataFrame.from_dict(dic_medidas)\n",
    "df_medidas"
   ]
  },
  {
   "cell_type": "code",
   "execution_count": 22,
   "metadata": {},
   "outputs": [
    {
     "name": "stdout",
     "output_type": "stream",
     "text": [
      "Assimetria positiva: 0.7794036481376936 Calda direita mais longa\n"
     ]
    }
   ],
   "source": [
    "# Assimetria - Idade\n",
    "print(\"Assimetria positiva:\", df_medidas['idade'].skew(), \"Calda direita mais longa\")"
   ]
  },
  {
   "cell_type": "code",
   "execution_count": 23,
   "metadata": {},
   "outputs": [
    {
     "name": "stdout",
     "output_type": "stream",
     "text": [
      "Assimetria negativa: -0.01870360154101551 Calda esquerda mais longa\n"
     ]
    }
   ],
   "source": [
    "# Assimetria - Altura\n",
    "print(\"Assimetria negativa:\", df_medidas['altura'].skew(), \"Calda esquerda mais longa\")"
   ]
  },
  {
   "cell_type": "code",
   "execution_count": 24,
   "metadata": {},
   "outputs": [
    {
     "data": {
      "text/plain": [
       "-0.603963349669721"
      ]
     },
     "execution_count": 24,
     "metadata": {},
     "output_type": "execute_result"
    }
   ],
   "source": [
    "# Curtose - Idade\n",
    "\n",
    "df_medidas['idade'].kurtosis()"
   ]
  },
  {
   "cell_type": "code",
   "execution_count": 25,
   "metadata": {},
   "outputs": [
    {
     "data": {
      "text/plain": [
       "-5.686087473450467"
      ]
     },
     "execution_count": 25,
     "metadata": {},
     "output_type": "execute_result"
    }
   ],
   "source": [
    "# Curtose - Altura\n",
    "\n",
    "df_medidas['altura'].kurtosis()"
   ]
  },
  {
   "cell_type": "code",
   "execution_count": 26,
   "metadata": {},
   "outputs": [
    {
     "data": {
      "text/plain": [
       "count     4.000000\n",
       "mean     19.750000\n",
       "std      10.144785\n",
       "min      10.000000\n",
       "25%      13.000000\n",
       "50%      18.000000\n",
       "75%      24.750000\n",
       "max      33.000000\n",
       "Name: idade, dtype: float64"
      ]
     },
     "execution_count": 26,
     "metadata": {},
     "output_type": "execute_result"
    }
   ],
   "source": [
    "# Obter medidas estatisticas\n",
    "\n",
    "df_medidas['idade'].describe()"
   ]
  }
 ],
 "metadata": {
  "kernelspec": {
   "display_name": "Python 3",
   "language": "python",
   "name": "python3"
  },
  "language_info": {
   "codemirror_mode": {
    "name": "ipython",
    "version": 3
   },
   "file_extension": ".py",
   "mimetype": "text/x-python",
   "name": "python",
   "nbconvert_exporter": "python",
   "pygments_lexer": "ipython3",
   "version": "3.12.2"
  }
 },
 "nbformat": 4,
 "nbformat_minor": 2
}
