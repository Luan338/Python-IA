{
 "cells": [
  {
   "cell_type": "markdown",
   "metadata": {},
   "source": [
    "Gráfico de dispersão"
   ]
  },
  {
   "cell_type": "markdown",
   "metadata": {},
   "source": [
    "Um gráfico de dispersão em Python é uma ferramenta visual que mostra como duas variáveis estão relacionadas, e é criado usando o pacote de visualização chamado matplotlib. O eixo x representa uma variável, e o eixo y representa a outra. Cada ponto no gráfico corresponde a um único ponto de dados na matriz de dados."
   ]
  },
  {
   "cell_type": "markdown",
   "metadata": {},
   "source": [
    "**Associação Positiva**: Quando duas variáveis se movem juntas, isto é, quando o aumento de uma variável resulta no aumento da outra variável. Por exemplo, a altura e o peso geralmente têm uma associação positiva porque, à medida que a altura de uma pessoa aumenta, o peso também tende a aumentar.\n",
    "\n",
    "**Associação Negativa**: Quando duas variáveis se movem em direções opostas, isto é, quando o aumento de uma variável resulta na diminuição da outra variável. Por exemplo, a quantidade de exercício que uma pessoa faz e o seu peso geralmente têm uma associação negativa porque, à medida que a quantidade de exercício aumenta, o peso tende a diminuir.\n",
    "\n",
    "**Sem Associação**: Quando não há relação evidente entre duas variáveis, isto é, quando a mudança em uma variável não resulta em nenhuma mudança previsível na outra variável. Por exemplo, a cor do cabelo de uma pessoa e a sua altura geralmente não têm associação, pois a mudança de uma não afeta a outra de maneira previsível."
   ]
  },
  {
   "cell_type": "code",
   "execution_count": 10,
   "metadata": {},
   "outputs": [
    {
     "data": {
      "image/png": "[encoded data removed]",
      "text/plain": [
       "<Figure size 640x480 with 1 Axes>"
      ]
     },
     "metadata": {},
     "output_type": "display_data"
    }
   ],
   "source": [
    "import matplotlib.pyplot as plt\n",
    "\n",
    "x = [5, 7, 8, 7, 2, 17, 2, 9, 4, 11, 12, 9, 6]\n",
    "y = [99, 86, 87, 88, 111, 86, 103, 87, 94, 78, 77, 85, 86]\n",
    "\n",
    "plt.scatter(x, y)\n",
    "plt.title('Meu Gráfico de Dispersão')\n",
    "plt.xlabel('Eixo X')\n",
    "plt.ylabel('Eixo Y')\n",
    "plt.show()\n"
   ]
  },
  {
   "cell_type": "markdown",
   "metadata": {},
   "source": [
    "## Apresentar a correlação das variáveis"
   ]
  },
  {
   "cell_type": "code",
   "execution_count": 12,
   "metadata": {},
   "outputs": [
    {
     "data": {
      "text/html": [
       "<div>\n",
       "<style scoped>\n",
       "    .dataframe tbody tr th:only-of-type {\n",
       "        vertical-align: middle;\n",
       "    }\n",
       "\n",
       "    .dataframe tbody tr th {\n",
       "        vertical-align: top;\n",
       "    }\n",
       "\n",
       "    .dataframe thead th {\n",
       "        text-align: right;\n",
       "    }\n",
       "</style>\n",
       "<table border=\"1\" class=\"dataframe\">\n",
       "  <thead>\n",
       "    <tr style=\"text-align: right;\">\n",
       "      <th></th>\n",
       "      <th>idade</th>\n",
       "      <th>altura</th>\n",
       "    </tr>\n",
       "  </thead>\n",
       "  <tbody>\n",
       "    <tr>\n",
       "      <th>idade</th>\n",
       "      <td>1.000000</td>\n",
       "      <td>-0.517451</td>\n",
       "    </tr>\n",
       "    <tr>\n",
       "      <th>altura</th>\n",
       "      <td>-0.517451</td>\n",
       "      <td>1.000000</td>\n",
       "    </tr>\n",
       "  </tbody>\n",
       "</table>\n",
       "</div>"
      ],
      "text/plain": [
       "           idade    altura\n",
       "idade   1.000000 -0.517451\n",
       "altura -0.517451  1.000000"
      ]
     },
     "execution_count": 12,
     "metadata": {},
     "output_type": "execute_result"
    }
   ],
   "source": [
    "import pandas as pd\n",
    "\n",
    "dic_medidas = {'idade': [22,10,33,14], 'altura': [2.2,2.34,0.5,0.7]}\n",
    "df_medidas = pd.DataFrame.from_dict(dic_medidas)\n",
    "\n",
    "df_medidas.corr(method='pearson')"
   ]
  }
 ],
 "metadata": {
  "kernelspec": {
   "display_name": "Python 3",
   "language": "python",
   "name": "python3"
  },
  "language_info": {
   "codemirror_mode": {
    "name": "ipython",
    "version": 3
   },
   "file_extension": ".py",
   "mimetype": "text/x-python",
   "name": "python",
   "nbconvert_exporter": "python",
   "pygments_lexer": "ipython3",
   "version": "3.12.2"
  }
 },
 "nbformat": 4,
 "nbformat_minor": 2
}
